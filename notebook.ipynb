{
 "cells": [
  {
   "cell_type": "markdown",
   "metadata": {},
   "source": [
    "# DeepOF notebook for Busquets-Garcia Lab\n",
    "Welcome to this notebook, where you'll find all the code necessary to analyze your DeepLabCut (DLC) output with DeepOF. Don't worry! You don't need notions of coding with Python, as you'll need to run the cells of this notebook. Just keep reading, and I'll guide you through the following steps."
   ]
  },
  {
   "cell_type": "markdown",
   "metadata": {},
   "source": [
    "## Import the necessary packages and directories\n",
    "First, run the following cell to import the necessary packages for your analysis."
   ]
  },
  {
   "cell_type": "code",
   "execution_count": 1,
   "metadata": {},
   "outputs": [
    {
     "name": "stdout",
     "output_type": "stream",
     "text": [
      "Using TensorFlow backend\n"
     ]
    },
    {
     "name": "stderr",
     "output_type": "stream",
     "text": [
      "c:\\Users\\mcanela\\.conda\\envs\\new_deepof\\lib\\site-packages\\ot\\backend.py:2998: UserWarning: To use TensorflowBackend, you need to activate the tensorflow numpy API. You can activate it by running: \n",
      "from tensorflow.python.ops.numpy_ops import np_config\n",
      "np_config.enable_numpy_behavior()\n",
      "  register_backend(TensorflowBackend())\n"
     ]
    }
   ],
   "source": [
    "import numpy as np\n",
    "import pandas as pd\n",
    "import pickle\n",
    "import os\n",
    "import deepof.data"
   ]
  },
  {
   "cell_type": "markdown",
   "metadata": {},
   "source": [
    "Now it's time to add your directories. Modify the following to fit the directories where you store your files:\n",
    "NOTE: run the corrected videos with the DLC files of the corrected videos."
   ]
  },
  {
   "cell_type": "code",
   "execution_count": 2,
   "metadata": {},
   "outputs": [],
   "source": [
    "directory_output = '//FOLDER/becell/Lab Projects/ERCstG_HighMemory/Data/Marc/1) SOC/2023-10 - Alzheimer/Females/DeepOF/'\n",
    "directory_dlc = '//FOLDER/becell/Lab Projects/ERCstG_HighMemory/Data/Marc/1) SOC/2023-10 - Alzheimer/Females/DeepOF/dlc/'\n",
    "directory_videos = '//FOLDER/becell/Lab Projects/ERCstG_HighMemory/Data/Marc/1) SOC/2023-10 - Alzheimer/Females/DeepOF/corrected/'"
   ]
  },
  {
   "cell_type": "markdown",
   "metadata": {},
   "source": [
    "## Create your DeepOF project folder\n",
    "Now that you have all set, it's time to start your analysis. Just run the following cell to create a folder with your DeepOF project (where you'll perform your study). But before, take into consideration:\n",
    "- To draw an area, click on the corners of the arena. Press **d** to delete and **q** once you have finished.\n",
    "- The first edge that you draw will be used to escalate from pixels to millimeters. The default value is 200 mm, corresponding to the longest edge of the polybox.\n",
    "- We will perform the arena detection semi-automatically. You'll have to draw the arena once, and the rest will be predicted based on your first attempt. The program will create a folder named *Arena_detection* to store samples of the automatic detection so you can check if everything went smoothly.\n",
    "- If you want to perform a manual drawing in each video (it may be tedious!), you can do it by switching **manual=False** to **manual=True** in the function below.\n",
    "- If you have a problem drawing the arena of a specific video, don't worry! Note the number of the video causing problems, draw any shape, and go on. After the analysis is completed, run the next cell indicating the video's name and re-draw the arena's shape."
   ]
  },
  {
   "cell_type": "code",
   "execution_count": null,
   "metadata": {},
   "outputs": [],
   "source": [
    "from master_script import creating_deepof_project\n",
    "my_deepof_project = creating_deepof_project(directory_output, directory_dlc, directory_videos, manual=False, scale=200)"
   ]
  },
  {
   "cell_type": "code",
   "execution_count": null,
   "metadata": {},
   "outputs": [],
   "source": [
    "# To re-draw the shape of an arena\n",
    "my_deepof_project.edit_arenas(videos=['20230728_Marc_ERC SOC S1_Males_box ef_05_01_1',\n",
    "                                      '20230728_Marc_ERC SOC S2_Males_box ab_04_01_1',\n",
    "                                      '20230728_Marc_ERC SOC S2_Males_box ab_06_01_1',\n",
    "                                      '20230728_Marc_ERC SOC S2_Males_box cd_04_01_1'\n",
    "                                      ])"
   ]
  },
  {
   "cell_type": "markdown",
   "metadata": {},
   "source": [
    "Finally, you may add some conditions to your experiment (e.g., a column named *protocol* in which you indicate the group to which the video belongs). To do so, first, you must create a CSV file (you can do that in Excel and then export it to CSV) and store it in your _directory_output_. You cave an example named ``conditions.csv`` in this repository."
   ]
  },
  {
   "cell_type": "code",
   "execution_count": null,
   "metadata": {},
   "outputs": [],
   "source": [
    "my_deepof_project.load_exp_conditions(directory_output + \"conditions.csv\")"
   ]
  },
  {
   "cell_type": "code",
   "execution_count": 5,
   "metadata": {},
   "outputs": [
    {
     "ename": "NameError",
     "evalue": "name 'np' is not defined",
     "output_type": "error",
     "traceback": [
      "\u001b[1;31m---------------------------------------------------------------------------\u001b[0m",
      "\u001b[1;31mNameError\u001b[0m                                 Traceback (most recent call last)",
      "\u001b[1;32mbecell\\Lab Projects\\ERCstG_HighMemory\\Data\\Marc\\github\\abg-deepof-scripts-repository\\notebook.ipynb Cell 11\u001b[0m line \u001b[0;36m3\n\u001b[0;32m      <a href='vscode-notebook-cell://folder/becell/Lab%20Projects/ERCstG_HighMemory/Data/Marc/github/abg-deepof-scripts-repository/notebook.ipynb#X13sZmlsZQ%3D%3D?line=0'>1</a>\u001b[0m \u001b[39m# Optional: in case you want to check that your conditions have been correctly imported:\u001b[39;00m\n\u001b[0;32m      <a href='vscode-notebook-cell://folder/becell/Lab%20Projects/ERCstG_HighMemory/Data/Marc/github/abg-deepof-scripts-repository/notebook.ipynb#X13sZmlsZQ%3D%3D?line=1'>2</a>\u001b[0m \u001b[39mfrom\u001b[39;00m \u001b[39mmaster_script\u001b[39;00m \u001b[39mimport\u001b[39;00m check_conditions\n\u001b[1;32m----> <a href='vscode-notebook-cell://folder/becell/Lab%20Projects/ERCstG_HighMemory/Data/Marc/github/abg-deepof-scripts-repository/notebook.ipynb#X13sZmlsZQ%3D%3D?line=2'>3</a>\u001b[0m check_conditions(directory_output, my_deepof_project, col_name\u001b[39m=\u001b[39;49m\u001b[39m'\u001b[39;49m\u001b[39mgroup\u001b[39;49m\u001b[39m'\u001b[39;49m)\n",
      "File \u001b[1;32m\\\\folder\\becell\\Lab Projects\\ERCstG_HighMemory\\Data\\Marc\\github\\abg-deepof-scripts-repository\\master_script.py:64\u001b[0m, in \u001b[0;36mcheck_conditions\u001b[1;34m(directory_output, my_deepof_project, col_name)\u001b[0m\n\u001b[0;32m     63\u001b[0m \u001b[39mdef\u001b[39;00m \u001b[39mcheck_conditions\u001b[39m(directory_output, my_deepof_project, col_name\u001b[39m=\u001b[39m\u001b[39m'\u001b[39m\u001b[39mprotocol\u001b[39m\u001b[39m'\u001b[39m):\n\u001b[1;32m---> 64\u001b[0m     conditions \u001b[39m=\u001b[39m np\u001b[39m.\u001b[39munique(pd\u001b[39m.\u001b[39mread_csv(directory_output \u001b[39m+\u001b[39m \u001b[39m\"\u001b[39m\u001b[39mconditions.csv\u001b[39m\u001b[39m\"\u001b[39m, index_col\u001b[39m=\u001b[39m\u001b[39m0\u001b[39m)[col_name]\u001b[39m.\u001b[39mto_list())\n\u001b[0;32m     65\u001b[0m     coords \u001b[39m=\u001b[39m my_deepof_project\u001b[39m.\u001b[39mget_coords()\n\u001b[0;32m     66\u001b[0m     \u001b[39mprint\u001b[39m(\u001b[39m\"\u001b[39m\u001b[39mThe dataset has \u001b[39m\u001b[39m{}\u001b[39;00m\u001b[39m videos:\u001b[39m\u001b[39m\"\u001b[39m\u001b[39m.\u001b[39mformat(\u001b[39mlen\u001b[39m(coords)))\n",
      "\u001b[1;31mNameError\u001b[0m: name 'np' is not defined"
     ]
    }
   ],
   "source": [
    "# Optional: in case you want to check that your conditions have been correctly imported:\n",
    "from master_script import check_conditions\n",
    "check_conditions(directory_output, my_deepof_project, col_name='group')"
   ]
  },
  {
   "cell_type": "markdown",
   "metadata": {},
   "source": [
    "## Perform a supervised analysis\n",
    "With the supervised analysis, you can predict different pre-defined behaviors. We start supposing that you created a DeepOF project (that is to say, that you ran the cells from the section above). In case you have a DeepOF project and you want to load it, run the following cell:"
   ]
  },
  {
   "cell_type": "code",
   "execution_count": 3,
   "metadata": {},
   "outputs": [],
   "source": [
    "my_deepof_project = deepof.data.load_project(directory_output + \"deepof_tutorial_project\")"
   ]
  },
  {
   "cell_type": "markdown",
   "metadata": {},
   "source": [
    "Once loaded with a DeepOF project, it's time to run the supervised analysis! For the sake of time, we'll store the output from the supervised analysis in a pickle file named **supervised_annotation.pkl**. Then, you can load it in the future and start working with it immediately without re-doing the analysis. In summary, to perform a new supervised analysis, run the first cell; to load an existing one, the second cell."
   ]
  },
  {
   "cell_type": "code",
   "execution_count": null,
   "metadata": {},
   "outputs": [],
   "source": [
    "# Perform a new supervised analysis\n",
    "supervised_annotation = my_deepof_project.supervised_annotation()\n",
    "with open(directory_output + 'supervised_annotation.pkl', 'wb') as file:\n",
    "    pickle.dump(supervised_annotation, file)"
   ]
  },
  {
   "cell_type": "code",
   "execution_count": 4,
   "metadata": {},
   "outputs": [],
   "source": [
    "# Alternatively, open an existing supervised analysis\n",
    "with open(directory_output + 'supervised_annotation.pkl', 'rb') as file:\n",
    "    supervised_annotation = pickle.load(file)"
   ]
  },
  {
   "cell_type": "markdown",
   "metadata": {},
   "source": [
    "Considering that we have other data sources, we might think it would be interesting to merge all of them. Running the following cell, we can combine the output of Júlia's and Rémi's script for immobility analysis into the data of DeepOF. You must enter a folder directory where you store the pickle files obtained after the immobility analysis."
   ]
  },
  {
   "cell_type": "code",
   "execution_count": null,
   "metadata": {},
   "outputs": [],
   "source": [
    "from master_script import update_supervised_annotation_with_immobility\n",
    "\n",
    "directory_path = '//FOLDER/becell/Lab Projects/ERCstG_HighMemory/Data/Marc/1) SOC/2023-09 - Young males/DeepOF/Data/pickles/'\n",
    "update_supervised_annotation_with_immobility(supervised_annotation, directory_path)"
   ]
  }
 ],
 "metadata": {
  "kernelspec": {
   "display_name": "new_deepof",
   "language": "python",
   "name": "python3"
  },
  "language_info": {
   "codemirror_mode": {
    "name": "ipython",
    "version": 3
   },
   "file_extension": ".py",
   "mimetype": "text/x-python",
   "name": "python",
   "nbconvert_exporter": "python",
   "pygments_lexer": "ipython3",
   "version": "3.9.18"
  }
 },
 "nbformat": 4,
 "nbformat_minor": 2
}
