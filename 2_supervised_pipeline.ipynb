{
 "cells": [
  {
   "cell_type": "markdown",
   "metadata": {},
   "source": [
    "# Pipeline analysis for supervised data\n",
    "Let's start simple by analyzing the data from a single individual, considering: total distance, look-around, sniffing, inner-zone time, wall-climbing, and huddle. We start by importing the necessary packages and directories."
   ]
  },
  {
   "cell_type": "code",
   "execution_count": 4,
   "metadata": {},
   "outputs": [],
   "source": [
    "import os\n",
    "import pandas as pd\n",
    "import pickle\n",
    "import deepof.data\n",
    "import deepof.visuals\n",
    "import visuals_customized"
   ]
  },
  {
   "cell_type": "code",
   "execution_count": 6,
   "metadata": {},
   "outputs": [],
   "source": [
    "# Open an existing DeepOF project\n",
    "directory_output = '//folder/becell/Lab Collaborative Projects/Cancer+Mood - IGM/Behaviour/3rd round/SOC INT/'\n",
    "my_deepof_project = deepof.data.load_project(directory_output + \"deepof_tutorial_project\")"
   ]
  },
  {
   "cell_type": "code",
   "execution_count": 7,
   "metadata": {},
   "outputs": [],
   "source": [
    "# Open an existing supervised analysis\n",
    "with open(directory_output + 'supervised_annotation.pkl', 'rb') as file:\n",
    "    supervised_annotation = pickle.load(file)"
   ]
  },
  {
   "cell_type": "code",
   "execution_count": 8,
   "metadata": {},
   "outputs": [],
   "source": [
    "# Load conditions\n",
    "my_deepof_project.load_exp_conditions(directory_output + 'conditions.csv')"
   ]
  },
  {
   "cell_type": "code",
   "execution_count": 9,
   "metadata": {},
   "outputs": [],
   "source": [
    "# Define colors\n",
    "white = '#FFFFFF'\n",
    "grey_soft = '#D3D3D3'\n",
    "grey_stark = '#636466'\n",
    "blue = '#194680'\n",
    "red = '#801946'"
   ]
  },
  {
   "cell_type": "markdown",
   "metadata": {},
   "source": [
    "## Plot PCA"
   ]
  },
  {
   "cell_type": "code",
   "execution_count": 10,
   "metadata": {},
   "outputs": [],
   "source": [
    "# Define the coordinates for the labels of each condition\n",
    "coords_dict = {\n",
    "    'hc_ind': [1.5,3],\n",
    "    'hc_ee': [3,-1]\n",
    "    }"
   ]
  },
  {
   "cell_type": "code",
   "execution_count": 11,
   "metadata": {},
   "outputs": [],
   "source": [
    "# Define the colors for each condition\n",
    "color_dict = {\n",
    "    'hc_ind': blue,\n",
    "    'hc_ee': red\n",
    "    }"
   ]
  },
  {
   "cell_type": "code",
   "execution_count": null,
   "metadata": {},
   "outputs": [],
   "source": [
    "ax, embedding_dataset, rotated_loading_scores, dataframe_for_titles = visuals_customized.plot_embeddings(\n",
    "    my_deepof_project,\n",
    "    supervised_annotations=supervised_annotation,\n",
    "    bin_size=120,\n",
    "    bin_index=0,\n",
    "    my_title = 'PCA first time bin',\n",
    "    my_color_dict = color_dict,\n",
    "    my_coords_dict = coords_dict\n",
    ")"
   ]
  },
  {
   "cell_type": "markdown",
   "metadata": {},
   "source": [
    "## Analyze individual PC and rotated_loading_scores"
   ]
  },
  {
   "cell_type": "code",
   "execution_count": null,
   "metadata": {},
   "outputs": [],
   "source": [
    "# Perform statistics\n",
    "import pingouin as pg\n",
    "pg.normality(embedding_dataset, 'PCA-2', 'experimental condition')\n",
    "pg.homoscedasticity(embedding_dataset, 'PCA-2', 'experimental condition')\n",
    "\n",
    "x = embedding_dataset[embedding_dataset['experimental condition'] == 'hc_ee']['PCA-2']\n",
    "y = embedding_dataset[embedding_dataset['experimental condition'] == 'hc_ind']['PCA-2']\n",
    "pg.ttest(x, y).round(3)\n",
    "\n",
    "# pg.anova(embedding_dataset, 'PCA-1', 'experimental condition')\n",
    "# pg.pairwise_tukey(embedding_dataset, 'PCA-1', 'experimental condition')"
   ]
  },
  {
   "cell_type": "code",
   "execution_count": null,
   "metadata": {},
   "outputs": [],
   "source": [
    "# Save your statistics in a dictionary\n",
    "stats_dict = {\n",
    "    '*': ['hc_ee', 'hc_ind']\n",
    "    }"
   ]
  },
  {
   "cell_type": "code",
   "execution_count": null,
   "metadata": {},
   "outputs": [],
   "source": [
    "# Plot the PC components\n",
    "visuals_customized.boxplot(embedding_dataset, color_dict, 'PCA-1', stats_dict)"
   ]
  },
  {
   "cell_type": "code",
   "execution_count": null,
   "metadata": {},
   "outputs": [],
   "source": [
    "# Plot the rotated loading scores of PC components\n",
    "visuals_customized.lollipop(dataframe_for_titles, rotated_loading_scores, 'PCA-1')"
   ]
  },
  {
   "cell_type": "markdown",
   "metadata": {},
   "source": [
    "## "
   ]
  }
 ],
 "metadata": {
  "kernelspec": {
   "display_name": "Python 3",
   "language": "python",
   "name": "python3"
  },
  "language_info": {
   "codemirror_mode": {
    "name": "ipython",
    "version": 3
   },
   "file_extension": ".py",
   "mimetype": "text/x-python",
   "name": "python",
   "nbconvert_exporter": "python",
   "pygments_lexer": "ipython3",
   "version": "3.9.18"
  }
 },
 "nbformat": 4,
 "nbformat_minor": 2
}
