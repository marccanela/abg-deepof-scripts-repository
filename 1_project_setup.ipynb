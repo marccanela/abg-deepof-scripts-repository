{
 "cells": [
  {
   "cell_type": "markdown",
   "metadata": {},
   "source": [
    "# Creation of a DeepOF project (v.0.5.1)\n",
    "## Import the necessary packages and directories\n",
    "First, run the following cell to import the necessary packages for your analysis."
   ]
  },
  {
   "cell_type": "code",
   "execution_count": null,
   "metadata": {},
   "outputs": [],
   "source": [
    "import os\n",
    "import pandas as pd\n",
    "import pickle\n",
    "import deepof.data\n",
    "import deepof.visuals"
   ]
  },
  {
   "cell_type": "markdown",
   "metadata": {},
   "source": [
    "Now it's time to add your directories. Modify the following to fit the directories where you store your files:\n",
    "NOTE: I recomend you to use the original AVI videos along with the H5 output files from DLC."
   ]
  },
  {
   "cell_type": "code",
   "execution_count": null,
   "metadata": {},
   "outputs": [],
   "source": [
    "directory_output = '/home/sie/Desktop/marc/data_controls_dlc'\n",
    "directory_dlc = '/home/sie/Desktop/marc/data_controls_dlc/h5'\n",
    "directory_videos = '/home/sie/Desktop/marc/data_controls_dlc/avi'"
   ]
  },
  {
   "cell_type": "markdown",
   "metadata": {},
   "source": [
    "## Create your DeepOF project folder\n",
    "Now that you have all set, it's time to start your analysis. Just run the following cell to create a folder with your DeepOF project (where you'll perform your study). But before, take into consideration:\n",
    "- To draw an area, click on the corners of the arena. Press **d** to delete and **q** once you have finished.\n",
    "- The first edge that you draw will be used to escalate from pixels to millimeters. The default value is 200 mm, corresponding to the longest edge of the polybox.\n",
    "- If you have a problem drawing the arena of a specific video, don't worry! Note the number of the video causing problems, draw any shape, and go on. After the analysis is completed, run the next cell indicating the video's name and re-draw the arena's shape."
   ]
  },
  {
   "cell_type": "code",
   "execution_count": null,
   "metadata": {},
   "outputs": [],
   "source": [
    "# Prepare the project\n",
    "my_deepof_project_raw = deepof.data.Project(\n",
    "                project_path=os.path.join(directory_output),\n",
    "                video_path=os.path.join(directory_videos),\n",
    "                table_path=os.path.join(directory_dlc),\n",
    "                project_name=\"deepof_tutorial_project\",\n",
    "                arena=\"polygonal-manual\",\n",
    "                animal_ids=['colortail','nocolor'],\n",
    "                table_format=\".h5\",\n",
    "                video_format=\".avi\",\n",
    "                bodypart_graph='deepof_14',\n",
    "                # exclude_bodyparts=[\"Tail_1\", \"Tail_2\", \"Tail_tip\"],\n",
    "                video_scale=200,\n",
    "                smooth_alpha=1,\n",
    "                exp_conditions=None,\n",
    ")"
   ]
  },
  {
   "cell_type": "code",
   "execution_count": null,
   "metadata": {},
   "outputs": [],
   "source": [
    "# Create the project\n",
    "my_deepof_project = my_deepof_project_raw.create(force=True)"
   ]
  },
  {
   "cell_type": "code",
   "execution_count": null,
   "metadata": {},
   "outputs": [],
   "source": [
    "# Edit wrong arenas\n",
    "my_deepof_project.edit_arenas(\n",
    "    videos=['20240119_Marc_ERC SOC light_Males_box de_06_01_1'],\n",
    "    arena_type=\"polygonal-manual\",\n",
    ")"
   ]
  },
  {
   "cell_type": "markdown",
   "metadata": {},
   "source": [
    "Finally, you may add some conditions to your experiment (e.g., a column named *protocol* in which you indicate the group to which the video belongs). To do so, first, you must create a CSV file (you can do that in Excel and then export it to CSV) and store it in your _directory_output_. You have an example named ``conditions.csv`` in this repository."
   ]
  },
  {
   "cell_type": "code",
   "execution_count": null,
   "metadata": {},
   "outputs": [],
   "source": [
    "# Load conditions\n",
    "my_deepof_project.load_exp_conditions('/home/sie/Desktop/marc/data_controls_dlc/conditions.csv')"
   ]
  },
  {
   "cell_type": "code",
   "execution_count": null,
   "metadata": {},
   "outputs": [],
   "source": [
    "# Check conditions\n",
    "coords = my_deepof_project.get_coords()\n",
    "print(\"The original dataset has {} videos\".format(len(coords)))\n",
    "coords = coords.filter_condition({\"protocol\": \"s2\"})\n",
    "print(\"The filtered dataset has only {} videos\".format(len(coords)))"
   ]
  },
  {
   "cell_type": "markdown",
   "metadata": {},
   "source": [
    "## Perform a supervised analysis\n",
    "With the supervised analysis, you can predict different pre-defined behaviors. We start supposing that you created a DeepOF project (that is to say, that you ran the cells from the section above). For the sake of time, we'll store the output from the supervised analysis in a pickle file named **supervised_annotation.pkl**. Then, you can load it in the future and start working with it immediately without re-doing the analysis."
   ]
  },
  {
   "cell_type": "code",
   "execution_count": null,
   "metadata": {},
   "outputs": [],
   "source": [
    "supervised_annotation = my_deepof_project.supervised_annotation()"
   ]
  },
  {
   "cell_type": "code",
   "execution_count": null,
   "metadata": {},
   "outputs": [],
   "source": [
    "# To store the supervised analysis in a pickle file\n",
    "with open(directory_output + 'supervised_annotation.pkl', 'wb') as file:\n",
    "    pickle.dump(supervised_annotation, file)"
   ]
  }
 ],
 "metadata": {
  "language_info": {
   "name": "python"
  }
 },
 "nbformat": 4,
 "nbformat_minor": 2
}
