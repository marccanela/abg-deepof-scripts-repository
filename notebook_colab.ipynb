{
 "cells": [
  {
   "cell_type": "markdown",
   "metadata": {},
   "source": [
    "# Unsupervised analysis with DeepOF\n",
    "Welcome to this notebook, where we'll perform an unsupervised analysis using Google Colab! With an unsupervised analysis, you can identify patterns in your data without labeling or a pre-existing hypothesis. Therefore, you can use it to explore your data and discover new relationships you wouldn't have noticed!"
   ]
  },
  {
   "cell_type": "markdown",
   "metadata": {},
   "source": [
    "## Importing packages and installing dependencies"
   ]
  },
  {
   "cell_type": "code",
   "execution_count": null,
   "metadata": {},
   "outputs": [],
   "source": [
    "import os\n",
    "!git clone -q https://github.com/mlfpm/deepof.git\n",
    "!pip install -q -e deepof --progress-bar off\n",
    "os.chdir(\"deepof\")\n",
    "!curl --output tutorial_files.zip https://datashare.mpcdf.mpg.de/s/knF7t78isQuIAr0/download\n",
    "!unzip tutorial_files.zip\n",
    "os.kill(os.getpid(), 9)"
   ]
  },
  {
   "cell_type": "code",
   "execution_count": null,
   "metadata": {},
   "outputs": [],
   "source": [
    "os.chdir(\"deepof\")\n",
    "import os, warnings\n",
    "warnings.filterwarnings('ignore')"
   ]
  },
  {
   "cell_type": "code",
   "execution_count": null,
   "metadata": {},
   "outputs": [],
   "source": [
    "from google.colab import drive\n",
    "    drive.mount('/content/drive')\n",
    "data_dir = \"/content/drive/MyDrive/MY_DATA_DIRECTORY\""
   ]
  },
  {
   "cell_type": "markdown",
   "metadata": {},
   "source": [
    "## Running the unsupervised analysis\n",
    "Run the following cells to import your project. Then, we'll preprocess our data; DeepOF will calculate the centered and aligned coordinates, speeds, and distances between the animal parts."
   ]
  },
  {
   "cell_type": "code",
   "execution_count": null,
   "metadata": {},
   "outputs": [],
   "source": [
    "my_deepof_project = deepof.data.load_project(data_dir + \"deepof_tutorial_project\")"
   ]
  },
  {
   "cell_type": "code",
   "execution_count": null,
   "metadata": {},
   "outputs": [],
   "source": [
    "# This code will generate a dataset using graph representations, as well a some auxiliary objects\n",
    "def graph_dataset_function(my_deepof_project):\n",
    "    graph_preprocessed_coords, adj_matrix, to_preprocess, global_scaler = my_deepof_project.get_graph_dataset(\n",
    "        # animal_id=\"S1\", # Comment out for multi-animal embeddings\n",
    "        center=\"Center\",\n",
    "        align=\"Spine_1\",\n",
    "        window_size=25,\n",
    "        window_step=1,\n",
    "        test_videos=1,\n",
    "        preprocess=True,\n",
    "        scale=\"standard\",\n",
    "    )\n",
    "\n",
    "    return graph_preprocessed_coords, adj_matrix, to_preprocess, global_scaler"
   ]
  },
  {
   "cell_type": "markdown",
   "metadata": {},
   "source": [
    "Now, we will embed our data with deep clustering methods. The core idea of deep clustering is to embed our preprocessed data with a neural network and retrieve a set of embeddings per time point, each assigned to a cluster. If you have already trained a model, set **pre_trained=True**** instead of *False*."
   ]
  },
  {
   "cell_type": "code",
   "execution_count": null,
   "metadata": {},
   "outputs": [],
   "source": [
    "def train_model_function(my_deepof_project, graph_preprocessed_coords, adj_matrix, pre_trained)\n",
    "    trained_model = my_deepof_project.deep_unsupervised_embedding(\n",
    "        preprocessed_object=graph_preprocessed_coords, # Change to preprocessed_coords to use non-graph embeddings\n",
    "        adjacency_matrix=adj_matrix,\n",
    "        embedding_model=\"VaDE\", # Can also be set to 'VQVAE' and 'Contrastive'\n",
    "        epochs=10,\n",
    "        encoder_type=\"recurrent\", # Can also be set to 'TCN' and 'transformer'\n",
    "        n_components=10,\n",
    "        latent_dim=4,\n",
    "        batch_size=1024,\n",
    "        verbose=False, # Set to True to follow the training loop\n",
    "        interaction_regularization=0.0, # Set to 0.5 if multi-animal training\n",
    "        pretrained=pre_trained, # Set to False to train a new model!\n",
    "    )\n",
    "\n",
    "    return trained_model"
   ]
  }
 ],
 "metadata": {
  "language_info": {
   "name": "python"
  }
 },
 "nbformat": 4,
 "nbformat_minor": 2
}
